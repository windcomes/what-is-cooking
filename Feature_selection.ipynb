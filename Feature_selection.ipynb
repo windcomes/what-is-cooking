{
 "cells": [
  {
   "cell_type": "code",
   "execution_count": 542,
   "metadata": {
    "ExecuteTime": {
     "end_time": "2019-04-01T19:55:14.123247Z",
     "start_time": "2019-04-01T19:55:14.110896Z"
    },
    "hide_input": false
   },
   "outputs": [],
   "source": [
    "import json\n",
    "import pandas as pd\n",
    "import numpy as np\n",
    "import re\n",
    "from sklearn.feature_extraction.text import ENGLISH_STOP_WORDS\n",
    "from sklearn.model_selection import train_test_split\n",
    "from sklearn.feature_extraction.text import TfidfVectorizer"
   ]
  },
  {
   "cell_type": "code",
   "execution_count": 543,
   "metadata": {
    "ExecuteTime": {
     "end_time": "2019-04-01T19:55:18.129624Z",
     "start_time": "2019-04-01T19:55:15.771256Z"
    },
    "hide_input": false
   },
   "outputs": [],
   "source": [
    "with open('train.json', encoding='utf-8') as f:\n",
    "    d = json.load(f)\n",
    "    f.close()\n",
    "\n",
    "data_all = pd.DataFrame(d)\n",
    "# From the file Quentin offered, we can see that if we reorder the ingredient names by its first charactor, it is \n",
    "# noted that there are some special numbers(like '1','10','15') or unit names('oz') which are meaningless.\n",
    "# Hence, the first thing is to remove these from the datasets.\n",
    "\n",
    "numbers = re.compile(r\"\\d.*\\d\\s?\")   # the Regular Expression of numbers(like '1','10','15')\n",
    "num_percent = re.compile(r\"\\d.*%\\s\") # the Regular Expression of percentage numbers like 1%\n",
    "oz = re.compile(r\"\\soz\\.\")           # the Regular Expression of 'oz.'\n",
    "seven_up = re.compile(r\"^7\\sUp\")     # the Regular Expression of '7 Up'\n",
    "\n",
    "def datasets_cleaning(list_input):\n",
    "    for ingre_no in range(len(list_input)):\n",
    "        list_input[ingre_no] = re.sub(numbers, \"\",list_input[ingre_no])\n",
    "        list_input[ingre_no] = re.sub(num_percent,\"\",list_input[ingre_no])\n",
    "        list_input[ingre_no] = re.sub(oz,\"\",list_input[ingre_no])\n",
    "        list_input[ingre_no] = re.sub(seven_up,\"7up\",list_input[ingre_no])\n",
    "    return list_input\n",
    "\n",
    "data_all['ingredients'] = data_all['ingredients'].apply(datasets_cleaning)"
   ]
  },
  {
   "cell_type": "code",
   "execution_count": 544,
   "metadata": {
    "ExecuteTime": {
     "end_time": "2019-04-01T19:55:19.250291Z",
     "start_time": "2019-04-01T19:55:19.165794Z"
    }
   },
   "outputs": [],
   "source": [
    "# now we seperate the dataset into train, valid, test\n",
    "y_all = data_all['cuisine'].tolist()\n",
    "X_all = data_all['ingredients'].tolist()\n",
    "\n",
    "Xtrain, Xtestval, ytrain, ytestval = train_test_split(X_all,y_all, test_size = 0.2, random_state = 42)\n",
    "Xtest, Xval, ytest, yval = train_test_split(Xtestval, ytestval, test_size = 0.5, random_state = 42)\n",
    "\n",
    "data_train = pd.DataFrame(columns=['cuisine','ingredients'])\n",
    "data_train['cuisine'] = ytrain\n",
    "data_train['ingredients'] = Xtrain # Creat a DataFrame based on train data(size: 31819*2)"
   ]
  },
  {
   "cell_type": "code",
   "execution_count": 545,
   "metadata": {
    "ExecuteTime": {
     "end_time": "2019-04-01T19:55:20.158223Z",
     "start_time": "2019-04-01T19:55:20.143464Z"
    }
   },
   "outputs": [
    {
     "name": "stdout",
     "output_type": "stream",
     "text": [
      "{'mexican': 5102, 'indian': 2401, 'filipino': 619, 'moroccan': 655, 'korean': 664, 'irish': 516, 'southern_us': 3472, 'french': 2096, 'vietnamese': 681, 'japanese': 1139, 'italian': 6271, 'thai': 1224, 'spanish': 807, 'chinese': 2163, 'british': 647, 'brazilian': 383, 'greek': 926, 'russian': 400, 'cajun_creole': 1218, 'jamaican': 435}\n"
     ]
    }
   ],
   "source": [
    "data_train\n",
    "dict1 = {}\n",
    "for key in ytrain:\n",
    "    dict1[key] = dict1.get(key, 0) + 1\n",
    "print(dict1)"
   ]
  },
  {
   "cell_type": "code",
   "execution_count": 546,
   "metadata": {
    "ExecuteTime": {
     "end_time": "2019-04-01T19:55:21.245302Z",
     "start_time": "2019-04-01T19:55:21.020106Z"
    }
   },
   "outputs": [],
   "source": [
    "# then we want to split the name of each ingredients into several single words.\n",
    "def tokenize_list(list_input):\n",
    "    new_list =[val.split(\" \") for val in list_input]\n",
    "    list_get = [item for sublist in new_list for item in sublist]\n",
    "    return list_get\n",
    "# example_origin = data_train['ingredients'][0]\n",
    "# example_new = tokenize_list(example_origin)\n",
    "# print(example_origin)\n",
    "# print(example_new)\n",
    "data_train['ingre_splited'] = data_train['ingredients'].apply(tokenize_list)"
   ]
  },
  {
   "cell_type": "code",
   "execution_count": 547,
   "metadata": {
    "ExecuteTime": {
     "end_time": "2019-04-01T19:55:22.204907Z",
     "start_time": "2019-04-01T19:55:22.190290Z"
    }
   },
   "outputs": [
    {
     "data": {
      "text/html": [
       "<div>\n",
       "<style scoped>\n",
       "    .dataframe tbody tr th:only-of-type {\n",
       "        vertical-align: middle;\n",
       "    }\n",
       "\n",
       "    .dataframe tbody tr th {\n",
       "        vertical-align: top;\n",
       "    }\n",
       "\n",
       "    .dataframe thead th {\n",
       "        text-align: right;\n",
       "    }\n",
       "</style>\n",
       "<table border=\"1\" class=\"dataframe\">\n",
       "  <thead>\n",
       "    <tr style=\"text-align: right;\">\n",
       "      <th></th>\n",
       "      <th>cuisine</th>\n",
       "      <th>ingredients</th>\n",
       "      <th>ingre_splited</th>\n",
       "    </tr>\n",
       "  </thead>\n",
       "  <tbody>\n",
       "    <tr>\n",
       "      <th>0</th>\n",
       "      <td>mexican</td>\n",
       "      <td>[shredded cheddar cheese, chicken meat, choppe...</td>\n",
       "      <td>[shredded, cheddar, cheese, chicken, meat, cho...</td>\n",
       "    </tr>\n",
       "    <tr>\n",
       "      <th>1</th>\n",
       "      <td>indian</td>\n",
       "      <td>[fresh cilantro, purple onion, ground coriande...</td>\n",
       "      <td>[fresh, cilantro, purple, onion, ground, coria...</td>\n",
       "    </tr>\n",
       "    <tr>\n",
       "      <th>2</th>\n",
       "      <td>filipino</td>\n",
       "      <td>[sugar, garlic, onions, vinegar, green chilies...</td>\n",
       "      <td>[sugar, garlic, onions, vinegar, green, chilie...</td>\n",
       "    </tr>\n",
       "    <tr>\n",
       "      <th>3</th>\n",
       "      <td>moroccan</td>\n",
       "      <td>[raw pistachios, purple onion, couscous, dried...</td>\n",
       "      <td>[raw, pistachios, purple, onion, couscous, dri...</td>\n",
       "    </tr>\n",
       "    <tr>\n",
       "      <th>4</th>\n",
       "      <td>mexican</td>\n",
       "      <td>[tomatoes, pepper, salsa, sliced green onions,...</td>\n",
       "      <td>[tomatoes, pepper, salsa, sliced, green, onion...</td>\n",
       "    </tr>\n",
       "  </tbody>\n",
       "</table>\n",
       "</div>"
      ],
      "text/plain": [
       "    cuisine                                        ingredients  \\\n",
       "0   mexican  [shredded cheddar cheese, chicken meat, choppe...   \n",
       "1    indian  [fresh cilantro, purple onion, ground coriande...   \n",
       "2  filipino  [sugar, garlic, onions, vinegar, green chilies...   \n",
       "3  moroccan  [raw pistachios, purple onion, couscous, dried...   \n",
       "4   mexican  [tomatoes, pepper, salsa, sliced green onions,...   \n",
       "\n",
       "                                       ingre_splited  \n",
       "0  [shredded, cheddar, cheese, chicken, meat, cho...  \n",
       "1  [fresh, cilantro, purple, onion, ground, coria...  \n",
       "2  [sugar, garlic, onions, vinegar, green, chilie...  \n",
       "3  [raw, pistachios, purple, onion, couscous, dri...  \n",
       "4  [tomatoes, pepper, salsa, sliced, green, onion...  "
      ]
     },
     "execution_count": 547,
     "metadata": {},
     "output_type": "execute_result"
    }
   ],
   "source": [
    "data_train.head(5)"
   ]
  },
  {
   "cell_type": "code",
   "execution_count": 548,
   "metadata": {
    "ExecuteTime": {
     "end_time": "2019-04-01T19:55:23.179464Z",
     "start_time": "2019-04-01T19:55:23.138136Z"
    }
   },
   "outputs": [],
   "source": [
    "data_train['ingre_string'] = data_train['ingre_splited'].str.join(' ') # combines the splited words into a sentence"
   ]
  },
  {
   "cell_type": "code",
   "execution_count": 549,
   "metadata": {
    "ExecuteTime": {
     "end_time": "2019-04-01T19:55:24.100287Z",
     "start_time": "2019-04-01T19:55:24.088467Z"
    }
   },
   "outputs": [
    {
     "data": {
      "text/html": [
       "<div>\n",
       "<style scoped>\n",
       "    .dataframe tbody tr th:only-of-type {\n",
       "        vertical-align: middle;\n",
       "    }\n",
       "\n",
       "    .dataframe tbody tr th {\n",
       "        vertical-align: top;\n",
       "    }\n",
       "\n",
       "    .dataframe thead th {\n",
       "        text-align: right;\n",
       "    }\n",
       "</style>\n",
       "<table border=\"1\" class=\"dataframe\">\n",
       "  <thead>\n",
       "    <tr style=\"text-align: right;\">\n",
       "      <th></th>\n",
       "      <th>cuisine</th>\n",
       "      <th>ingredients</th>\n",
       "      <th>ingre_splited</th>\n",
       "      <th>ingre_string</th>\n",
       "    </tr>\n",
       "  </thead>\n",
       "  <tbody>\n",
       "    <tr>\n",
       "      <th>0</th>\n",
       "      <td>mexican</td>\n",
       "      <td>[shredded cheddar cheese, chicken meat, choppe...</td>\n",
       "      <td>[shredded, cheddar, cheese, chicken, meat, cho...</td>\n",
       "      <td>shredded cheddar cheese chicken meat chopped o...</td>\n",
       "    </tr>\n",
       "    <tr>\n",
       "      <th>1</th>\n",
       "      <td>indian</td>\n",
       "      <td>[fresh cilantro, purple onion, ground coriande...</td>\n",
       "      <td>[fresh, cilantro, purple, onion, ground, coria...</td>\n",
       "      <td>fresh cilantro purple onion ground coriander g...</td>\n",
       "    </tr>\n",
       "    <tr>\n",
       "      <th>2</th>\n",
       "      <td>filipino</td>\n",
       "      <td>[sugar, garlic, onions, vinegar, green chilies...</td>\n",
       "      <td>[sugar, garlic, onions, vinegar, green, chilie...</td>\n",
       "      <td>sugar garlic onions vinegar green chilies grou...</td>\n",
       "    </tr>\n",
       "    <tr>\n",
       "      <th>3</th>\n",
       "      <td>moroccan</td>\n",
       "      <td>[raw pistachios, purple onion, couscous, dried...</td>\n",
       "      <td>[raw, pistachios, purple, onion, couscous, dri...</td>\n",
       "      <td>raw pistachios purple onion couscous dried apr...</td>\n",
       "    </tr>\n",
       "    <tr>\n",
       "      <th>4</th>\n",
       "      <td>mexican</td>\n",
       "      <td>[tomatoes, pepper, salsa, sliced green onions,...</td>\n",
       "      <td>[tomatoes, pepper, salsa, sliced, green, onion...</td>\n",
       "      <td>tomatoes pepper salsa sliced green onions ched...</td>\n",
       "    </tr>\n",
       "  </tbody>\n",
       "</table>\n",
       "</div>"
      ],
      "text/plain": [
       "    cuisine                                        ingredients  \\\n",
       "0   mexican  [shredded cheddar cheese, chicken meat, choppe...   \n",
       "1    indian  [fresh cilantro, purple onion, ground coriande...   \n",
       "2  filipino  [sugar, garlic, onions, vinegar, green chilies...   \n",
       "3  moroccan  [raw pistachios, purple onion, couscous, dried...   \n",
       "4   mexican  [tomatoes, pepper, salsa, sliced green onions,...   \n",
       "\n",
       "                                       ingre_splited  \\\n",
       "0  [shredded, cheddar, cheese, chicken, meat, cho...   \n",
       "1  [fresh, cilantro, purple, onion, ground, coria...   \n",
       "2  [sugar, garlic, onions, vinegar, green, chilie...   \n",
       "3  [raw, pistachios, purple, onion, couscous, dri...   \n",
       "4  [tomatoes, pepper, salsa, sliced, green, onion...   \n",
       "\n",
       "                                        ingre_string  \n",
       "0  shredded cheddar cheese chicken meat chopped o...  \n",
       "1  fresh cilantro purple onion ground coriander g...  \n",
       "2  sugar garlic onions vinegar green chilies grou...  \n",
       "3  raw pistachios purple onion couscous dried apr...  \n",
       "4  tomatoes pepper salsa sliced green onions ched...  "
      ]
     },
     "execution_count": 549,
     "metadata": {},
     "output_type": "execute_result"
    }
   ],
   "source": [
    "data_train.head(5)"
   ]
  },
  {
   "cell_type": "code",
   "execution_count": 550,
   "metadata": {
    "ExecuteTime": {
     "end_time": "2019-04-01T19:55:25.002898Z",
     "start_time": "2019-04-01T19:55:24.999197Z"
    }
   },
   "outputs": [],
   "source": [
    "list_corpus = data_train['ingre_string'].tolist() # generate the corpus based on the train data."
   ]
  },
  {
   "cell_type": "code",
   "execution_count": 551,
   "metadata": {
    "ExecuteTime": {
     "end_time": "2019-04-01T19:55:25.910594Z",
     "start_time": "2019-04-01T19:55:25.906554Z"
    }
   },
   "outputs": [
    {
     "data": {
      "text/plain": [
       "['shredded cheddar cheese chicken meat chopped onion tomatoes green onions black olives dried parsley flour tortillas diced tomatoes sour cream tomato sauce chili powder salsa dried oregano',\n",
       " 'fresh cilantro purple onion ground coriander ground turmeric ground ginger vegetable oil brown rice flour mustard seeds whole wheat flour rice vinegar cumin seed ground cumin water garlic cayenne pepper white sugar',\n",
       " 'sugar garlic onions vinegar green chilies ground black pepper coconut cream chicken fish sauce cooking oil coconut milk',\n",
       " 'raw pistachios purple onion couscous dried apricot lemon juice olive oil salt harissa chopped parsley',\n",
       " 'tomatoes pepper salsa sliced green onions cheddar cheese garlic powder baked tortilla chips taco sauce non-fat sour cream iceberg lettuce ground round kidney beans whole kernel corn, drain']"
      ]
     },
     "execution_count": 551,
     "metadata": {},
     "output_type": "execute_result"
    }
   ],
   "source": [
    "list_corpus[0:5]"
   ]
  },
  {
   "cell_type": "code",
   "execution_count": 552,
   "metadata": {
    "ExecuteTime": {
     "end_time": "2019-04-01T19:55:27.368181Z",
     "start_time": "2019-04-01T19:55:26.816356Z"
    }
   },
   "outputs": [],
   "source": [
    "vectorizer = TfidfVectorizer() # it comes from the built-in method in skilearn. TD-IDF\n",
    "vector = vectorizer.fit_transform(list_corpus)\n",
    "names = vectorizer.get_feature_names()"
   ]
  },
  {
   "cell_type": "code",
   "execution_count": 553,
   "metadata": {
    "ExecuteTime": {
     "end_time": "2019-04-01T19:55:28.290579Z",
     "start_time": "2019-04-01T19:55:28.287467Z"
    }
   },
   "outputs": [
    {
     "name": "stdout",
     "output_type": "stream",
     "text": [
      "2867\n"
     ]
    }
   ],
   "source": [
    "print(len(names)) # count how many feature we constructed by the bag of words model(TD-IDF)."
   ]
  },
  {
   "cell_type": "code",
   "execution_count": 554,
   "metadata": {
    "ExecuteTime": {
     "end_time": "2019-04-01T19:55:29.224942Z",
     "start_time": "2019-04-01T19:55:29.222244Z"
    }
   },
   "outputs": [],
   "source": [
    "# Some words are meaningless like 'a' 'is' 'or' 'not', we can then delete them from features.\n",
    "custom_stop_words = []\n",
    "for word in ENGLISH_STOP_WORDS:\n",
    "    custom_stop_words.append(word)"
   ]
  },
  {
   "cell_type": "code",
   "execution_count": 555,
   "metadata": {
    "ExecuteTime": {
     "end_time": "2019-04-01T19:55:30.700751Z",
     "start_time": "2019-04-01T19:55:30.137405Z"
    }
   },
   "outputs": [],
   "source": [
    "# we can generate features once again, but no stop words('is','or','and'...) in the features.\n",
    "vectorizer_use_sw = TfidfVectorizer(stop_words=custom_stop_words)\n",
    "vector_use_sw = vectorizer_use_sw.fit_transform(list_corpus)\n",
    "names_use_sw = vectorizer_use_sw.get_feature_names()"
   ]
  },
  {
   "cell_type": "code",
   "execution_count": 556,
   "metadata": {
    "ExecuteTime": {
     "end_time": "2019-04-01T19:55:31.622197Z",
     "start_time": "2019-04-01T19:55:31.619112Z"
    }
   },
   "outputs": [
    {
     "name": "stdout",
     "output_type": "stream",
     "text": [
      "2831\n"
     ]
    }
   ],
   "source": [
    "print(len(names_use_sw)) # count how many feature we constructed if we delete the stop words."
   ]
  },
  {
   "cell_type": "code",
   "execution_count": 557,
   "metadata": {
    "ExecuteTime": {
     "end_time": "2019-04-01T19:55:32.694248Z",
     "start_time": "2019-04-01T19:55:32.506603Z"
    }
   },
   "outputs": [
    {
     "name": "stdout",
     "output_type": "stream",
     "text": [
      "dog\n"
     ]
    },
    {
     "name": "stderr",
     "output_type": "stream",
     "text": [
      "[nltk_data] Downloading package wordnet to /Users/ymyang/nltk_data...\n",
      "[nltk_data]   Package wordnet is already up-to-date!\n",
      "[nltk_data] Downloading package averaged_perceptron_tagger to\n",
      "[nltk_data]     /Users/ymyang/nltk_data...\n",
      "[nltk_data]   Package averaged_perceptron_tagger is already up-to-\n",
      "[nltk_data]       date!\n"
     ]
    }
   ],
   "source": [
    "# Then some words are same like 'apple' and 'apples', we want to only keep 'apple'\n",
    "import nltk # we use the nltk package\n",
    "\n",
    "nltk.download(\"wordnet\")\n",
    "nltk.download(\"averaged_perceptron_tagger\")\n",
    "\n",
    "from nltk.stem import WordNetLemmatizer\n",
    "\n",
    "lemmatizer = WordNetLemmatizer()\n",
    "print(lemmatizer.lemmatize('dogs')) # it is a toy example.\n"
   ]
  },
  {
   "cell_type": "code",
   "execution_count": 558,
   "metadata": {
    "ExecuteTime": {
     "end_time": "2019-04-01T19:55:36.037158Z",
     "start_time": "2019-04-01T19:55:33.589885Z"
    }
   },
   "outputs": [],
   "source": [
    "def token_lemmatize(list_input):\n",
    "    list_get =[lemmatizer.lemmatize(word) for word in list_input]\n",
    "    return list_get\n",
    "\n",
    "# we use this method to update our splited words and then combine them into a sentence once again.\n",
    "data_train['ingre_splited'] = data_train['ingre_splited'].apply(token_lemmatize)\n",
    "data_train['ingre_string'] = data_train['ingre_splited'].str.join(' ')"
   ]
  },
  {
   "cell_type": "code",
   "execution_count": 559,
   "metadata": {
    "ExecuteTime": {
     "end_time": "2019-04-01T19:55:36.965074Z",
     "start_time": "2019-04-01T19:55:36.950926Z"
    }
   },
   "outputs": [
    {
     "data": {
      "text/html": [
       "<div>\n",
       "<style scoped>\n",
       "    .dataframe tbody tr th:only-of-type {\n",
       "        vertical-align: middle;\n",
       "    }\n",
       "\n",
       "    .dataframe tbody tr th {\n",
       "        vertical-align: top;\n",
       "    }\n",
       "\n",
       "    .dataframe thead th {\n",
       "        text-align: right;\n",
       "    }\n",
       "</style>\n",
       "<table border=\"1\" class=\"dataframe\">\n",
       "  <thead>\n",
       "    <tr style=\"text-align: right;\">\n",
       "      <th></th>\n",
       "      <th>cuisine</th>\n",
       "      <th>ingredients</th>\n",
       "      <th>ingre_splited</th>\n",
       "      <th>ingre_string</th>\n",
       "    </tr>\n",
       "  </thead>\n",
       "  <tbody>\n",
       "    <tr>\n",
       "      <th>0</th>\n",
       "      <td>mexican</td>\n",
       "      <td>[shredded cheddar cheese, chicken meat, choppe...</td>\n",
       "      <td>[shredded, cheddar, cheese, chicken, meat, cho...</td>\n",
       "      <td>shredded cheddar cheese chicken meat chopped o...</td>\n",
       "    </tr>\n",
       "    <tr>\n",
       "      <th>1</th>\n",
       "      <td>indian</td>\n",
       "      <td>[fresh cilantro, purple onion, ground coriande...</td>\n",
       "      <td>[fresh, cilantro, purple, onion, ground, coria...</td>\n",
       "      <td>fresh cilantro purple onion ground coriander g...</td>\n",
       "    </tr>\n",
       "    <tr>\n",
       "      <th>2</th>\n",
       "      <td>filipino</td>\n",
       "      <td>[sugar, garlic, onions, vinegar, green chilies...</td>\n",
       "      <td>[sugar, garlic, onion, vinegar, green, chilies...</td>\n",
       "      <td>sugar garlic onion vinegar green chilies groun...</td>\n",
       "    </tr>\n",
       "    <tr>\n",
       "      <th>3</th>\n",
       "      <td>moroccan</td>\n",
       "      <td>[raw pistachios, purple onion, couscous, dried...</td>\n",
       "      <td>[raw, pistachio, purple, onion, couscous, drie...</td>\n",
       "      <td>raw pistachio purple onion couscous dried apri...</td>\n",
       "    </tr>\n",
       "    <tr>\n",
       "      <th>4</th>\n",
       "      <td>mexican</td>\n",
       "      <td>[tomatoes, pepper, salsa, sliced green onions,...</td>\n",
       "      <td>[tomato, pepper, salsa, sliced, green, onion, ...</td>\n",
       "      <td>tomato pepper salsa sliced green onion cheddar...</td>\n",
       "    </tr>\n",
       "  </tbody>\n",
       "</table>\n",
       "</div>"
      ],
      "text/plain": [
       "    cuisine                                        ingredients  \\\n",
       "0   mexican  [shredded cheddar cheese, chicken meat, choppe...   \n",
       "1    indian  [fresh cilantro, purple onion, ground coriande...   \n",
       "2  filipino  [sugar, garlic, onions, vinegar, green chilies...   \n",
       "3  moroccan  [raw pistachios, purple onion, couscous, dried...   \n",
       "4   mexican  [tomatoes, pepper, salsa, sliced green onions,...   \n",
       "\n",
       "                                       ingre_splited  \\\n",
       "0  [shredded, cheddar, cheese, chicken, meat, cho...   \n",
       "1  [fresh, cilantro, purple, onion, ground, coria...   \n",
       "2  [sugar, garlic, onion, vinegar, green, chilies...   \n",
       "3  [raw, pistachio, purple, onion, couscous, drie...   \n",
       "4  [tomato, pepper, salsa, sliced, green, onion, ...   \n",
       "\n",
       "                                        ingre_string  \n",
       "0  shredded cheddar cheese chicken meat chopped o...  \n",
       "1  fresh cilantro purple onion ground coriander g...  \n",
       "2  sugar garlic onion vinegar green chilies groun...  \n",
       "3  raw pistachio purple onion couscous dried apri...  \n",
       "4  tomato pepper salsa sliced green onion cheddar...  "
      ]
     },
     "execution_count": 559,
     "metadata": {},
     "output_type": "execute_result"
    }
   ],
   "source": [
    "data_train.head(5)"
   ]
  },
  {
   "cell_type": "code",
   "execution_count": 560,
   "metadata": {
    "ExecuteTime": {
     "end_time": "2019-04-01T19:55:37.887907Z",
     "start_time": "2019-04-01T19:55:37.880636Z"
    }
   },
   "outputs": [],
   "source": [
    "# we update the corpus once again.\n",
    "list_corpus = data_train['ingre_string'].tolist()"
   ]
  },
  {
   "cell_type": "code",
   "execution_count": 561,
   "metadata": {
    "ExecuteTime": {
     "end_time": "2019-04-01T19:55:38.822329Z",
     "start_time": "2019-04-01T19:55:38.818404Z"
    }
   },
   "outputs": [
    {
     "data": {
      "text/plain": [
       "['shredded cheddar cheese chicken meat chopped onion tomato green onion black olive dried parsley flour tortilla diced tomato sour cream tomato sauce chili powder salsa dried oregano',\n",
       " 'fresh cilantro purple onion ground coriander ground turmeric ground ginger vegetable oil brown rice flour mustard seed whole wheat flour rice vinegar cumin seed ground cumin water garlic cayenne pepper white sugar',\n",
       " 'sugar garlic onion vinegar green chilies ground black pepper coconut cream chicken fish sauce cooking oil coconut milk',\n",
       " 'raw pistachio purple onion couscous dried apricot lemon juice olive oil salt harissa chopped parsley',\n",
       " 'tomato pepper salsa sliced green onion cheddar cheese garlic powder baked tortilla chip taco sauce non-fat sour cream iceberg lettuce ground round kidney bean whole kernel corn, drain']"
      ]
     },
     "execution_count": 561,
     "metadata": {},
     "output_type": "execute_result"
    }
   ],
   "source": [
    "list_corpus[0:5]"
   ]
  },
  {
   "cell_type": "code",
   "execution_count": 562,
   "metadata": {
    "ExecuteTime": {
     "end_time": "2019-04-01T19:55:40.405372Z",
     "start_time": "2019-04-01T19:55:39.761313Z"
    }
   },
   "outputs": [],
   "source": [
    "# again, we generate the features using TD-IDF(a kind of the bag of words model)\n",
    "vectorizer_use_sw_lem = TfidfVectorizer(stop_words = custom_stop_words)\n",
    "vector_use_sw_lem = vectorizer_use_sw_lem.fit_transform(list_corpus)\n",
    "names_use_sw_lem = vectorizer_use_sw_lem.get_feature_names()"
   ]
  },
  {
   "cell_type": "code",
   "execution_count": 563,
   "metadata": {
    "ExecuteTime": {
     "end_time": "2019-04-01T19:55:41.304705Z",
     "start_time": "2019-04-01T19:55:41.301791Z"
    }
   },
   "outputs": [
    {
     "name": "stdout",
     "output_type": "stream",
     "text": [
      "2662\n"
     ]
    }
   ],
   "source": [
    "print(len(names_use_sw_lem)) # we count how many features we still have."
   ]
  },
  {
   "cell_type": "code",
   "execution_count": 564,
   "metadata": {
    "ExecuteTime": {
     "end_time": "2019-04-01T19:55:42.850019Z",
     "start_time": "2019-04-01T19:55:42.288184Z"
    }
   },
   "outputs": [
    {
     "name": "stdout",
     "output_type": "stream",
     "text": [
      "['7up' 'abalone' 'abbamele' ... 'ziti' 'zucchini' 'épices']\n",
      "[[0. 0. 0. ... 0. 0. 0.]\n",
      " [0. 0. 0. ... 0. 0. 0.]\n",
      " [0. 0. 0. ... 0. 0. 0.]\n",
      " ...\n",
      " [0. 0. 0. ... 0. 0. 0.]\n",
      " [0. 0. 0. ... 0. 0. 0.]\n",
      " [0. 0. 0. ... 0. 0. 0.]]\n"
     ]
    }
   ],
   "source": [
    "feature_names = np.array(names_use_sw_lem) \n",
    "print(feature_names)\n",
    "print(vector_use_sw_lem.toarray()) \n",
    "# the size of array is 31819*2662 ,31819 is the size of train data, 2662 is the number of features."
   ]
  },
  {
   "cell_type": "code",
   "execution_count": 565,
   "metadata": {
    "ExecuteTime": {
     "end_time": "2019-04-01T19:55:44.336692Z",
     "start_time": "2019-04-01T19:55:43.807430Z"
    }
   },
   "outputs": [
    {
     "name": "stdout",
     "output_type": "stream",
     "text": [
      "['salt' 'oil' 'pepper' 'garlic' 'onion' 'fresh' 'ground' 'olive' 'sugar'\n",
      " 'sauce' 'black' 'tomato' 'water' 'chicken' 'cheese' 'butter' 'flour'\n",
      " 'egg' 'green' 'red' 'clove' 'white' 'powder' 'juice' 'chopped' 'leaf'\n",
      " 'vegetable' 'cilantro' 'milk' 'rice']\n"
     ]
    }
   ],
   "source": [
    "sorted_by_idf = np.argsort(vectorizer_use_sw_lem.idf_) \n",
    "# get the index of features which are ordered by their idf values\n",
    "\n",
    "print(feature_names[sorted_by_idf[:30]]) \n",
    "# idf values means how frequent it exists in recipes. now we present the most frequent 30 features.\n",
    "\n",
    "# As these features are so common that it may make a little contribution to the prediction.\n",
    "# We consider to delete them by adding these features into our customized stop words.\n",
    "\n",
    "for word in feature_names[sorted_by_idf[:30]]:\n",
    "    custom_stop_words.append(word)\n",
    "    \n",
    "# again, we generate the features using TD-IDF(a kind of the bag of words model)\n",
    "vectorizer_use_sw_lem = TfidfVectorizer(stop_words = custom_stop_words)\n",
    "vector_use_sw_lem = vectorizer_use_sw_lem.fit_transform(list_corpus)\n",
    "names_use_sw_lem = vectorizer_use_sw_lem.get_feature_names()"
   ]
  },
  {
   "cell_type": "code",
   "execution_count": 566,
   "metadata": {
    "ExecuteTime": {
     "end_time": "2019-04-01T19:55:46.077422Z",
     "start_time": "2019-04-01T19:55:45.272326Z"
    }
   },
   "outputs": [
    {
     "name": "stdout",
     "output_type": "stream",
     "text": [
      "['7up' 'abalone' 'abbamele' ... 'ziti' 'zucchini' 'épices']\n",
      "[[0. 0. 0. ... 0. 0. 0.]\n",
      " [0. 0. 0. ... 0. 0. 0.]\n",
      " [0. 0. 0. ... 0. 0. 0.]\n",
      " ...\n",
      " [0. 0. 0. ... 0. 0. 0.]\n",
      " [0. 0. 0. ... 0. 0. 0.]\n",
      " [0. 0. 0. ... 0. 0. 0.]]\n",
      "(31819, 2632)\n"
     ]
    }
   ],
   "source": [
    "feature_names = np.array(names_use_sw_lem) \n",
    "print(feature_names)\n",
    "print(vector_use_sw_lem.toarray())\n",
    "print(np.shape(vector_use_sw_lem.toarray()))\n",
    "# the size of array is 31819*2632 ,31819 is the size of train data, 2632 is the number of features."
   ]
  },
  {
   "cell_type": "code",
   "execution_count": 567,
   "metadata": {
    "ExecuteTime": {
     "end_time": "2019-04-01T19:55:46.972814Z",
     "start_time": "2019-04-01T19:55:46.970662Z"
    }
   },
   "outputs": [],
   "source": [
    "# Then, I believe it would be much better if we continue to using SVD/PCA method to reduce the dimension of feature"
   ]
  },
  {
   "cell_type": "code",
   "execution_count": 569,
   "metadata": {
    "ExecuteTime": {
     "end_time": "2019-04-01T20:31:00.496144Z",
     "start_time": "2019-04-01T20:31:00.490139Z"
    }
   },
   "outputs": [
    {
     "name": "stdout",
     "output_type": "stream",
     "text": [
      "['7up', 'abalone', 'abbamele', 'absinthe', 'abura', 'acai', 'accent', 'accompaniment', 'achiote', 'acid', 'acinus', 'ackee', 'acorn', 'acting', 'active', 'added', 'adobo', 'adzuki', 'agar', 'agave', 'age', 'aged', 'ahi', 'aioli', 'ajinomoto', 'ajwain', 'aka', 'alaskan', 'albacore', 'alcohol', 'ale', 'aleppo', 'alfalfa', 'alfredo', 'allspice', 'almond', 'aloe', 'alphabet', 'alum', 'amarena', 'amaretti', 'amaretto', 'amba', 'amber', 'amberjack', 'amchur', 'america', 'american', 'amino', 'amontillado', 'ampalaya', 'anaheim', 'anasazi', 'ancho', 'anchovy', 'andouille', 'anejo', 'angel', 'anglaise', 'angled', 'angostura', 'angus', 'anise', 'anisette', 'anjou', 'annatto', 'aonori', 'apple', 'applesauce', 'applewood', 'apricot', 'aquavit', 'arak', 'arame', 'arbol', 'arborio', 'arctic', 'arepa', 'argo', 'arhar', 'armagnac', 'arrabbiata', 'arrow', 'arrowroot', 'artichok', 'artichoke', 'artificial', 'artisan', 'arugula', 'asada', 'asadero', 'asafetida', 'asafoetida', 'asakusa', 'ascorbic', 'asiago', 'asian', 'asparagus', 'aspic', 'assam', 'assorted', 'asti', 'atar', 'atlantic', 'atta', 'au', 'avocado', 'awase', 'azteca', 'azuki', 'açai', 'baby', 'bacardi', 'bacon', 'bag', 'bagel', 'bags', 'baguette', 'bai', 'baileys', 'baked', 'baking', 'balance', 'ball', 'balm', 'balsamic', 'balsamico', 'bamboo', 'banana', 'banger', 'banh', 'baobab', 'bar', 'barbecue', 'barbecued', 'barberry', 'barilla', 'barley', 'barolo', 'bars', 'bartlett', 'basa', 'base', 'based', 'basil', 'basmati', 'bass', 'baton', 'batter', 'bawang', 'bay', 'bayonne', 'bbq', 'bean', 'beans', 'beansprouts', 'bear', 'beaten', 'beater', 'beau', 'beaujolais', 'bechamel', 'bee', 'beech', 'beef', 'beefsteak', 'beer', 'beet', 'beetroot', 'belgian', 'believ', 'believe', 'bell', 'bellpepper', 'belly', 'beluga', 'ben', 'bengal', 'bengali', 'beni', 'benne', 'bermuda', 'berry', 'bertolli', 'besan', 'best', 'betty', 'beurre', 'beverage', 'bhaji', 'bhindi', 'bianco', 'bibb', 'bicarbonate', 'big', 'biga', 'bigoli', 'bihon', 'bing', 'bird', 'biryani', 'biscotti', 'biscuit', 'bison', 'bisquick', 'bit', 'bitter', 'bittersweet', 'blacan', 'blackberry', 'blackcurrant', 'blackened', 'blackening', 'blackpepper', 'blackstrap', 'blade', 'blanc', 'blanched', 'blanco', 'blend', 'blends', 'bliss', 'block', 'blood', 'bloody', 'blossom', 'blue', 'blueberri', 'blueberry', 'boar', 'bob', 'bocconcini', 'boil', 'boiled', 'boiling', 'bok', 'bolillo', 'bologna', 'bone', 'boned', 'boneless', 'bonito', 'bonnet', 'boquerones', 'borage', 'bordelaise', 'borlotti', 'bosc', 'boston', 'bottle', 'bottled', 'boudin', 'bought', 'bouillon', 'bouquet', 'bourbon', 'boursin', 'bow', 'boy', 'boysenberry', 'braeburn', 'bragg', 'braising', 'bran', 'brand', 'brandy', 'branston', 'branzino', 'brat', 'brats', 'brazil', 'bread', 'breadcrumb', 'breader', 'breadfruit', 'breadstick', 'breakfast', 'breakstone', 'breast', 'bresaola', 'brew', 'brewed', 'breyers', 'brie', 'brien', 'brill', 'brine', 'brioche', 'brisket', 'brisée', 'broad', 'broccoli', 'broccolini', 'broil', 'broiler', 'broth', 'brown', 'brownie', 'browning', 'brussels', 'bucatini', 'buckwheat', 'bud', 'budweiser', 'buffalo', 'bulb', 'bulgur', 'bulk', 'bun', 'burdock', 'burger', 'burgundi', 'burgundy', 'burrata', 'burrito', 'burro', 'butt', 'buttercream', 'buttercup', 'butterflied', 'buttermilk', 'butternut', 'butterscotch', 'buttery', 'button', 'bénédictine', 'cabbage', 'cabernet', 'cabrales', 'cacao', 'cachaca', 'caciocavallo', 'cactus', 'caesar', 'cai', 'cajeta', 'cajun', 'cake', 'calabaza', 'calabrese', 'calamansi', 'calamari', 'calamata', 'calcium', 'calf', 'california', 'calimyrna', 'callaloo', 'calorie', 'calvados', 'camellia', 'camembert', 'campanelle', 'campari', 'campbell', 'canadian', 'candied', 'candlenut', 'candy', 'cane', 'canela', 'canned', 'cannellini', 'cannelloni', 'canning', 'cannoli', 'canola', 'cantal', 'cantaloupe', 'canton', 'cap', 'capellini', 'caper', 'capers', 'capicola', 'capocollo', 'capon', 'caponata', 'capsicum', 'cara', 'carambola', 'caramel', 'caraway', 'carbonated', 'carcass', 'cardamom', 'cardamon', 'caribbean', 'carnaroli', 'carnation', 'carne', 'carnitas', 'carp', 'carpaccio', 'carrot', 'casa', 'cascabel', 'casera', 'cashew', 'casing', 'cassava', 'cassia', 'cassis', 'castellane', 'castelvetrano', 'caster', 'catalina', 'catfish', 'catsup', 'caul', 'cauliflower', 'cauliflowerets', 'cava', 'cavatappi', 'cavatelli', 'cavenders', 'caviar', 'cavolo', 'cayenne', 'celery', 'celtic', 'center', 'century', 'cereal', 'ceylon', 'chaat', 'chachere', 'chai', 'challa', 'challenge', 'cham', 'chambord', 'champagne', 'chana', 'chang', 'channa', 'chanterelle', 'chapati', 'chapatti', 'char', 'chard', 'chardonnay', 'chartreuse', 'chat', 'chateaubriand', 'chayotes', 'cheddar', 'cheek', 'chees', 'cheesi', 'chenpi', 'cheong', 'cherry', 'cherrystone', 'chervil', 'chestnut', 'chestnuts', 'chevre', 'chia', 'chianti', 'chicharron', 'chickpea', 'chicory', 'chiffonade', 'chihuahua', 'chik', 'chilcostle', 'chile', 'chilegarlic', 'chiles', 'chili', 'chilies', 'chilled', 'chilli', 'chiltepín', 'chimichurri', 'chinese', 'chinkiang', 'chioggia', 'chip', 'chipotl', 'chipotle', 'chipped', 'chips', 'chitterlings', 'chive', 'cho', 'chocolate', 'choi', 'cholesterol', 'cholula', 'chong', 'chop', 'chopmeat', 'chops', 'chorizo', 'chourico', 'chow', 'chowchow', 'choy', 'chrysanthemum', 'chuck', 'chuka', 'chunk', 'chunky', 'chuno', 'chutney', 'chèvre', 'ciabatta', 'cider', 'cinnamon', 'cipollini', 'citric', 'citron', 'citrus', 'clam', 'clamato', 'clams', 'clarified', 'classic', 'classico', 'claw', 'clear', 'clementine', 'clotted', 'cloud', 'clover', 'club', 'coars', 'coarse', 'cob', 'coca', 'cockle', 'cocktail', 'coco', 'cocoa', 'coconut', 'cod', 'codfish', 'coffee', 'cognac', 'cointreau', 'coke', 'cola', 'colby', 'cold', 'cole', 'coleslaw', 'collard', 'collect', 'colman', 'color', 'colorado', 'coloring', 'colouring', 'comfort', 'comice', 'comino', 'compote', 'compressed', 'concentrate', 'conch', 'conchiglie', 'condensed', 'condiment', 'cone', 'confectioner', 'confectioners', 'confit', 'conger', 'conimex', 'consomme', 'convert', 'converted', 'cook', 'cooked', 'cookie', 'cookies', 'cooking', 'cooky', 'cool', 'cordial', 'coriander', 'corkscrew', 'corn', 'cornbread', 'corned', 'cornflake', 'cornflakes', 'cornflour', 'cornhusk', 'cornichons', 'cornish', 'cornmeal', 'cortland', 'cotija', 'cottage', 'cotto', 'coulis', 'country', 'couscous', 'covered', 'cox', 'crab', 'crabapple', 'crabmeat', 'cracked', 'cracker', 'crackers', 'cranberry', 'crawfish', 'crawford', 'crayfish', 'cream', 'creamed', 'creamer', 'creami', 'creamy', 'creations', 'crema', 'creme', 'cremini', 'creole', 'crepe', 'crescent', 'cress', 'crimini', 'crisco', 'crisp', 'crispy', 'crock', 'crocker', 'croissant', 'crookneck', 'cross', 'crosswise', 'crostini', 'crouton', 'crumb', 'crumbled', 'crumbles', 'crunch', 'crush', 'crushed', 'crust', 'crusty', 'crystal', 'crystallized', 'crème', 'cuban', 'cube', 'cubed', 'cubes', 'cucumber', 'cucuzza', 'cuervo', 'cuisine', 'culantro', 'cultured', 'cumberland', 'cumin', 'cuminseed', 'cummin', 'curaçao', 'curd', 'cured', 'curing', 'curl', 'curly', 'currant', 'curry', 'custard', 'cut', 'cutlet', 'cuttlefish', 'daal', 'daikon', 'dairy', 'daisy', 'daiya', 'dal', 'dandelion', 'daniel', 'daniels', 'darjeeling', 'dark', 'dash', 'dasheen', 'dashi', 'date', 'day', 'dean', 'decorating', 'deep', 'delallo', 'deli', 'delicious', 'demerara', 'demi', 'dende', 'despelette', 'dessert', 'devein', 'deveined', 'devil', 'deviled', 'dew', 'dhal', 'di', 'diamond', 'diced', 'diet', 'digestive', 'dijon', 'dijonnaise', 'dill', 'dillweed', 'dinner', 'dinosaur', 'dip', 'dipping', 'dips', 'disco', 'dish', 'distilled', 'ditalini', 'doenzang', 'dog', 'dolce', 'dole', 'domino', 'doritos', 'doubanjiang', 'doubl', 'double', 'dough', 'dr', 'dragee', 'dragon', 'drain', 'drained', 'drambuie', 'dress', 'dressing', 'dri', 'dried', 'drink', 'dripping', 'drum', 'drummettes', 'drumstick', 'dry', 'du', 'duck', 'duckling', 'dukkah', 'dulce', 'dulong', 'dumpling', 'dungeness', 'durum', 'dusting', 'dutch', 'ear', 'earl', 'earth', 'eating', 'eau', 'edam', 'edamame', 'edible', 'eel', 'eggland', 'eggnog', 'eggplant', 'eggroll', 'el', 'elbow', 'elderflower', 'emerils', 'emmenthal', 'empanada', 'enchilada', 'endive', 'english', 'enokitake', 'enriched', 'epazote', 'equal', 'erythritol', 'escalopes', 'escargot', 'escarole', 'espelette', 'espresso', 'essence', 'estancia', 'european', 'evans', 'evapor', 'evaporated', 'everglades', 'extra', 'extract', 'eye', 'eyed', 'fajita', 'falafel', 'family', 'farfalline', 'farina', 'farm', 'farmer', 'farmhouse', 'farms', 'farofa', 'farro', 'fashioned', 'fast', 'fat', 'fatback', 'fatfre', 'fatfree', 'fava', 'fed', 'fedelini', 'fennel', 'fenugreek', 'fermented', 'fern', 'feta', 'fettuccine', 'fettuccini', 'fettucine', 'fiber', 'ficelle', 'fideos', 'field', 'fiesta', 'fig', 'file', 'filet', 'filipino', 'filled', 'fillet', 'filling', 'filo', 'filé', 'fine', 'finely', 'finger', 'fingerling', 'fino', 'firm', 'firmly', 'fish', 'fishcake', 'fisher', 'flageolet', 'flake', 'flaked', 'flakes', 'flan', 'flank', 'flanken', 'flat', 'flatbread', 'flavor', 'flavored', 'flavoring', 'flax', 'flaxseed', 'fleshed', 'fleur', 'flora', 'floret', 'flounder', 'flower', 'floweret', 'flowering', 'fluff', 'focaccia', 'foccacia', 'foie', 'fondant', 'fontina', 'food', 'foods', 'foot', 'forest', 'foster', 'fowl', 'framboise', 'frangelico', 'frangipane', 'frank', 'franks', 'fraîche', 'free', 'freeze', 'fregola', 'french', 'fresca', 'fresco', 'freshly', 'fresno', 'fri', 'fried', 'frisee', 'fritos', 'frog', 'fromage', 'frond', 'frosting', 'frozen', 'fructose', 'fruit', 'fruitcake', 'fry', 'fryer', 'fryers', 'frying', 'fu', 'fudge', 'fuji', 'fully', 'fungus', 'furikake', 'fusilli', 'fuyu', 'gaeta', 'gai', 'gala', 'galanga', 'galangal', 'galliano', 'gallo', 'game', 'ganache', 'garam', 'garbanzo', 'garbonzo', 'garden', 'gari', 'garland', 'garni', 'garnish', 'gebhardt', 'gel', 'gelatin', 'gelato', 'gem', 'gember', 'gemelli', 'genoa', 'genoise', 'germ', 'germain', 'german', 'ghee', 'gherkin', 'giant', 'giardiniera', 'giblet', 'gin', 'ginger', 'gingerroot', 'gingersnap', 'ginseng', 'gizzard', 'glace', 'glacés', 'glass', 'glaze', 'glazed', 'globe', 'glucose', 'gluten', 'glutinous', 'gnocchi', 'goat', 'gobo', 'gochugaru', 'gochujang', 'godiva', 'goji', 'gold', 'golden', 'gomashio', 'good', 'goose', 'gooseberry', 'goreng', 'gorgonzola', 'gouda', 'gourd', 'gourmet', 'goya', 'grade', 'graham', 'grain', 'grained', 'gram', 'gran', 'grana', 'granary', 'grand', 'granita', 'granny', 'granola', 'granular', 'granulated', 'granule', 'grape', 'grapefruit', 'grapeseed', 'grappa', 'gras', 'grass', 'grassfed', 'grate', 'grated', 'grating', 'gravenstein', 'graviera', 'gravlax', 'gravy', 'gray', 'grease', 'great', 'greater', 'greek', 'greekstyl', 'gremolata', 'grenadine', 'grey', 'grigio', 'grill', 'grilled', 'grissini', 'grit', 'groat', 'groundnut', 'grouper', 'gruyere', 'gruyère', 'guacamol', 'guacamole', 'guajillo', 'guanciale', 'guava', 'guinea', 'guinness', 'gum', 'gumbo', 'guy', 'gyoza', 'ha', 'haas', 'habanero', 'habas', 'hachiya', 'haddock', 'hair', 'hake', 'hakusai', 'half', 'halibut', 'halloumi', 'haloumi', 'ham', 'hamachi', 'hamburger', 'hand', 'hanger', 'hanh', 'hanout', 'hard', 'haricot', 'harina', 'harissa', 'harusame', 'harvest', 'hash', 'hatch', 'hatcho', 'havarti', 'hawaiian', 'hazelnut', 'head', 'heart', 'hearts', 'heath', 'heavy', 'heeng', 'heinz', 'heirloom', 'helix', 'hellmann', 'hellmannâ', 'hemp', 'hen', 'herb', 'herbed', 'herbes', 'herbs', 'herbsaint', 'herdez', 'hero', 'herring', 'hibiscus', 'hickory', 'hidden', 'hierba', 'high', 'hijiki', 'hillshire', 'himalayan', 'hing', 'hip', 'hoagi', 'hoagie', 'hock', 'hog', 'hogue', 'hoi', 'hoisin', 'hoja', 'holland', 'hollandaise', 'holy', 'home', 'homemade', 'homestyl', 'hominy', 'honey', 'honeydew', 'honeysuckle', 'hong', 'hoop', 'hop', 'horseradish', 'hot', 'hothouse', 'house', 'hsing', 'hubbard', 'huckleberry', 'huitlacoche', 'hummus', 'hungarian', 'hurst', 'husk', 'hyssop', 'ibarra', 'ic', 'ice', 'iceberg', 'iced', 'icing', 'idaho', 'idli', 'ikura', 'imitation', 'imo', 'imperial', 'inch', 'india', 'indian', 'instant', 'iodized', 'irish', 'iron', 'island', 'islands', 'italian', 'jack', 'jackfruit', 'jagermeister', 'jaggery', 'jalape', 'jalapeno', 'jam', 'jamaica', 'jamaican', 'jambalaya', 'jambon', 'jameson', 'jamon', 'japanese', 'jarlsberg', 'jarred', 'jasmine', 'jeera', 'jell', 'jelli', 'jello', 'jelly', 'jerk', 'jerky', 'jerusalem', 'jicama', 'jiffy', 'jimmy', 'johnsonville', 'jonshonville', 'jose', 'jowl', 'jujube', 'jumbo', 'juniper', 'jus', 'kabocha', 'kabuli', 'kaffir', 'kahlua', 'kahlúa', 'kaiser', 'kalamansi', 'kalamata', 'kale', 'kalonji', 'kamaboko', 'kampyo', 'kamut', 'kangkong', 'kappa', 'karashi', 'karo', 'kasha', 'kasseri', 'kasu', 'kasuri', 'katakuriko', 'katsuo', 'kecap', 'keema', 'kefalotiri', 'kefalotyri', 'kefir', 'kelp', 'kernel', 'kerrygold', 'ketchup', 'ketjap', 'kewpie', 'kewra', 'key', 'kha', 'khoa', 'kidnei', 'kidney', 'kielbasa', 'kikkoman', 'kim', 'kimchi', 'kinchay', 'king', 'kingfish', 'kipper', 'kippered', 'kirby', 'kirsch', 'kirschenliqueur', 'kirschwasser', 'kitchen', 'kiwi', 'kiwifruit', 'klondike', 'knoblauch', 'knockwurst', 'knoflook', 'knorr', 'knox', 'knuckle', 'knudsen', 'kochu', 'kochujang', 'kohlrabi', 'kokum', 'komatsuna', 'kombu', 'konbu', 'kong', 'konnyaku', 'korean', 'korma', 'kosher', 'kraft', 'krispies', 'kroger', 'kumquat', 'kung', 'la', 'lacinato', 'lady', 'ladyfinger', 'lager', 'lakes', 'laksa', 'lamb', 'lan', 'land', 'langoustine', 'lap', 'lapsang', 'lard', 'lardons', 'large', 'lasagna', 'lasagne', 'laurel', 'lavash', 'lavender', 'layer', 'lb', 'le', 'lea', 'leafy', 'lean', 'leav', 'leaves', 'leche', 'lecithin', 'leek', 'leftover', 'leg', 'legume', 'lemon', 'lemonade', 'lemongrass', 'lentil', 'lentilles', 'lettuc', 'lettuce', 'lettuces', 'levain', 'licor', 'licorice', 'light', 'lillet', 'lily', 'lima', 'lime', 'limeade', 'limoncello', 'linguica', 'linguine', 'linguini', 'linguisa', 'link', 'links', 'lipton', 'liqueur', 'liquid', 'liquor', 'lite', 'littleneck', 'liver', 'liverwurst', 'lo', 'loaf', 'lobster', 'loin', 'london', 'long', 'longan', 'longaniza', 'loofah', 'loose', 'loosely', 'lop', 'lotus', 'louisiana', 'low', 'lower', 'lowfat', 'lowsodium', 'lox', 'luke', 'lump', 'lumpia', 'luncheon', 'lychee', 'maca', 'macadamia', 'macaroni', 'macarons', 'mace', 'machine', 'mackerel', 'madeira', 'madeleine', 'madras', 'maggi', 'magret', 'mahi', 'mahimahi', 'mahlab', 'maida', 'maifun', 'maitake', 'makers', 'maldon', 'malt', 'malted', 'maltose', 'mam', 'manchego', 'mandarin', 'mango', 'manicotti', 'manioc', 'manis', 'manischewitz', 'manié', 'manouri', 'mantou', 'manzanilla', 'maple', 'maraschino', 'marcona', 'margarine', 'margarita', 'margherita', 'marin', 'marinade', 'marinara', 'marjoram', 'mark', 'marmalade', 'marmite', 'marnier', 'marrons', 'marrow', 'marsala', 'marshmallow', 'martha', 'mary', 'marzano', 'marzipan', 'masa', 'masago', 'masala', 'mascarpone', 'mashed', 'masoor', 'massaman', 'massey', 'master', 'masur', 'matcha', 'mature', 'matzo', 'maui', 'mayer', 'mayonaise', 'mayonnais', 'mayonnaise', 'mazola', 'mccormick', 'mcintosh', 'meal', 'meat', 'meatball', 'meatloaf', 'medal', 'medallion', 'medium', 'medjool', 'mein', 'melba', 'melissa', 'melon', 'melted', 'mentaiko', 'menthe', 'mentsuyu', 'merguez', 'meringue', 'merlot', 'merluza', 'mesclun', 'mesquite', 'methi', 'mex', 'mexican', 'mexicana', 'mexico', 'mexicorn', 'meyer', 'mezcal', 'mezzetta', 'mi', 'mian', 'microgreens', 'mie', 'mignon', 'mild', 'milkfish', 'millet', 'min', 'minced', 'mincemeat', 'mineral', 'mini', 'miniature', 'minicub', 'minicubes', 'mint', 'minute', 'miracle', 'mirin', 'mirlitons', 'miso', 'mission', 'miswa', 'mitsuba', 'mix', 'mixed', 'mixture', 'mizkan', 'mizuna', 'mo', 'mochi', 'mochiko', 'moisture', 'mojo', 'molasses', 'mole', 'monde', 'monkfish', 'monterey', 'montreal', 'mooli', 'moong', 'moonshine', 'moose', 'mora', 'morcilla', 'morel', 'moroccan', 'morsel', 'mortadella', 'morton', 'moss', 'mostaccioli', 'mostarda', 'mountain', 'mousse', 'mozarella', 'mozzarella', 'mrs', 'ms', 'msg', 'muenster', 'muesli', 'muffin', 'muffins', 'mulato', 'mullet', 'multi', 'multigrain', 'mung', 'muscadine', 'muscat', 'muscovado', 'mushroom', 'mussel', 'mussels', 'mustard', 'mutton', 'myzithra', 'naan', 'nacho', 'nakano', 'nam', 'nama', 'napa', 'nappa', 'nashi', 'natto', 'natural', 'navel', 'navy', 'neapolitan', 'neck', 'nectar', 'nectarine', 'needle', 'negi', 'negro', 'nero', 'nest', 'nestle', 'neufchâtel', 'neutral', 'new', 'ngo', 'nib', 'nielsen', 'nigari', 'nigella', 'nilla', 'niçoise', 'noir', 'non', 'nondairy', 'nonfat', 'nonhydrogenated', 'nonpareil', 'nonstick', 'noodl', 'noodle', 'noodles', 'nopales', 'nopalitos', 'nori', 'northern', 'nugget', 'nuoc', 'nut', 'nutella', 'nutmeg', 'nutritional', 'oat', 'oatmeal', 'octopus', 'ogura', 'oigatsuo', 'okra', 'old', 'olek', 'oleo', 'olie', 'oliv', 'olives', 'oloroso', 'opo', 'orang', 'orange', 'orchid', 'orecchiette', 'oregano', 'oreo', 'organic', 'orgeat', 'original', 'originals', 'ornamental', 'ortega', 'orzo', 'oscar', 'ounc', 'ouzo', 'oven', 'ox', 'oxtail', 'oyster', 'oz', 'paccheri', 'pace', 'pack', 'packed', 'pad', 'padano', 'paddle', 'paddy', 'paella', 'pak', 'pale', 'palm', 'pam', 'pan', 'panang', 'pancake', 'pancetta', 'panch', 'pancit', 'pandan', 'pandanus', 'pane', 'paneer', 'panela', 'panetini', 'panettone', 'pangasius', 'panko', 'pansy', 'pao', 'papad', 'papalo', 'papaya', 'paper', 'pappadams', 'pappardelle', 'paprika', 'paratha', 'parboiled', 'pareve', 'parma', 'parmagiano', 'parmesan', 'parmigiana', 'parmigiano', 'parslei', 'parsley', 'parsnip', 'pasilla', 'paso', 'passata', 'passion', 'passover', 'pasta', 'paste', 'pastina', 'pastis', 'pastry', 'pat', 'pate', 'patis', 'patty', 'pattypan', 'pea', 'peach', 'peanut', 'peapods', 'pear', 'pearl', 'pearled', 'peasant', 'pecan', 'pecans', 'pecorino', 'pectin', 'peel', 'peeled', 'pekin', 'pekoe', 'penn', 'penne', 'pepe', 'peperoncini', 'peperoncino', 'pepitas', 'peppadews', 'peppercorn', 'peppered', 'pepperidge', 'peppermint', 'pepperocini', 'pepperoncini', 'pepperoni', 'peppers', 'perch', 'perciatelli', 'perilla', 'pernod', 'perrins', 'persian', 'persimmon', 'pesto', 'petal', 'pete', 'petit', 'petite', 'pheasant', 'philadelphia', 'pho', 'phoran', 'phyllo', 'picante', 'piccolini', 'picholine', 'pickapeppa', 'pickle', 'pickled', 'pickling', 'picnic', 'pico', 'pie', 'piece', 'piecrust', 'piecrusts', 'pierogi', 'pig', 'pigeon', 'pignolis', 'pike', 'pilaf', 'pillsbury', 'piloncillo', 'pilsner', 'piment', 'pimento', 'pimenton', 'pine', 'pineapple', 'pinenuts', 'pinhead', 'pink', 'pinot', 'pinto', 'pippin', 'piquillo', 'piquin', 'piri', 'pisco', 'pistachio', 'pistou', 'pit', 'pita', 'pitted', 'pizza', 'pla', 'plain', 'plantain', 'plum', 'plus', 'poblano', 'pocket', 'pod', 'poha', 'poi', 'point', 'poire', 'polenta', 'polish', 'pollen', 'pollock', 'pomegranate', 'pomelo', 'pompano', 'pompeian', 'ponzu', 'poolish', 'pop', 'popcorn', 'poppadoms', 'popped', 'poppy', 'porcini', 'pork', 'porridge', 'port', 'portabello', 'porter', 'porterhouse', 'portobello', 'portuguese', 'posole', 'pot', 'potato', 'potatoes', 'pots', 'potsticker', 'poultry', 'pound', 'poured', 'poussin', 'powdered', 'pozole', 'praline', 'prawn', 'prebaked', 'precooked', 'prego', 'premium', 'prepar', 'prepared', 'preserv', 'preserve', 'preserved', 'pressed', 'pretzel', 'prik', 'prime', 'process', 'processed', 'progresso', 'promise', 'prosciutto', 'proscuitto', 'prosecco', 'protein', 'provence', 'provolone', 'prune', 'pudding', 'puff', 'puffed', 'pullman', 'pulp', 'pummelo', 'pumpernickel', 'pumpkin', 'pumpkinseed', 'pure', 'puree', 'purple', 'purpos', 'purpose', 'purée', 'puy', 'pâte', 'pâté', 'qua', 'quail', 'quarter', 'quatre', 'queso', 'quick', 'quickcooking', 'quince', 'quinoa', 'quorn', 'ra', 'rabbit', 'rabe', 'rack', 'raclette', 'radicchio', 'radish', 'ragu', 'rainbow', 'raisin', 'raising', 'raita', 'rajma', 'raki', 'ramen', 'ramp', 'ranch', 'range', 'rape', 'rapeseed', 'rapid', 'rasher', 'raspberri', 'raspberry', 'ratatouille', 'ravioli', 'ravva', 'raw', 'razor', 'ready', 'real', 'reblochon', 'recip', 'recipe', 'redcurrant', 'redfish', 'redhot', 'reduc', 'reduced', 'reduction', 'refried', 'refrigerated', 'reggiano', 'regular', 'relish', 'remoulade', 'rendered', 'rennet', 'reposado', 'rhubarb', 'rib', 'ribeye', 'riblets', 'ricard', 'rich', 'ricotta', 'riesling', 'rigate', 'rigatoni', 'rind', 'ring', 'rins', 'rioja', 'ripe', 'ripened', 'rise', 'rising', 'risotto', 'ritz', 'ro', 'road', 'roast', 'roasted', 'roasting', 'robiola', 'robusto', 'rock', 'rocket', 'rockfish', 'roe', 'roll', 'rolled', 'rolls', 'rom', 'romain', 'romaine', 'romanesco', 'romano', 'rome', 'rooster', 'root', 'roquefort', 'rosa', 'rose', 'rosemari', 'rosemary', 'rosewater', 'rosé', 'rotel', 'rotelle', 'roti', 'rotini', 'rotisserie', 'roughy', 'rouille', 'round', 'roux', 'royal', 'rub', 'rubbed', 'ruby', 'rum', 'rump', 'runny', 'rusk', 'russet', 'russian', 'rustic', 'rutabaga', 'rye', 'saba', 'sablefish', 'sack', 'safflower', 'saffron', 'sage', 'sago', 'saigon', 'sake', 'saki', 'salad', 'salami', 'salata', 'salmon', 'salsa', 'salsify', 'salted', 'saltine', 'saltpeter', 'sambal', 'sambuca', 'samphire', 'san', 'sanding', 'sandwich', 'sangiovese', 'sangria', 'sansho', 'santa', 'santo', 'sardine', 'sargento', 'sashimi', 'sato', 'satsuma', 'sauc', 'sauerkraut', 'sausag', 'sausage', 'sauterne', 'sauvignon', 'savoiardi', 'savory', 'savoy', 'sazon', 'scallion', 'scallop', 'scallopini', 'schmaltz', 'schnapps', 'scone', 'scotch', 'scrod', 'scrub', 'scrubbed', 'sea', 'seafood', 'seamless', 'season', 'seasoned', 'seasoning', 'seasons', 'seaweed', 'sec', 'seca', 'secret', 'secrets', 'seed', 'seedless', 'segment', 'seitan', 'sel', 'self', 'seltzer', 'semi', 'semisweet', 'semolina', 'serrano', 'serving', 'sesame', 'seven', 'seville', 'shahi', 'shallot', 'shanghai', 'shank', 'shao', 'shaoxing', 'shape', 'shark', 'sharp', 'shaved', 'shaving', 'sheep', 'sheepshead', 'sheet', 'sheets', 'shell', 'shelled', 'shellfish', 'shells', 'sherry', 'shichimi', 'shiitake', 'shimeji', 'shin', 'shirataki', 'shiraz', 'shiro', 'shiromiso', 'shishito', 'shiso', 'shoepeg', 'shoga', 'shoot', 'short', 'shortbread', 'shortcake', 'shortcrust', 'shortening', 'shoulder', 'shoyu', 'shred', 'shredded', 'shrimp', 'shuck', 'shucked', 'shungiku', 'sichuan', 'sichuanese', 'sicilian', 'sides', 'silken', 'silver', 'simple', 'single', 'sirloin', 'siu', 'size', 'skate', 'skim', 'skimmed', 'skin', 'skinless', 'skinned', 'skippy', 'skirt', 'slab', 'slaw', 'slice', 'sliced', 'slices', 'slider', 'slim', 'slivered', 'sloe', 'small', 'smart', 'smith', 'smithfield', 'smoke', 'smoked', 'smooth', 'snail', 'snap', 'snapper', 'snip', 'snow', 'soaking', 'soba', 'sockeye', 'soda', 'sodium', 'sofrito', 'soft', 'soften', 'softened', 'soi', 'sole', 'solid', 'soman', 'sooji', 'soppressata', 'sorbet', 'sorghum', 'sorrel', 'souchong', 'soup', 'sour', 'sourdough', 'soursop', 'southern', 'southwest', 'soy', 'soya', 'soybean', 'soymilk', 'spaghetti', 'spaghettini', 'spam', 'spanish', 'spare', 'sparerib', 'sparkling', 'spear', 'spearmint', 'specials', 'speck', 'spelt', 'spice', 'spiced', 'spicy', 'spike', 'spinach', 'spiny', 'spiral', 'splenda', 'split', 'sponge', 'spot', 'spray', 'spread', 'spreadable', 'sprig', 'spring', 'sprinkle', 'sprite', 'sprout', 'spumante', 'squab', 'squash', 'squeezed', 'squid', 'squirt', 'sriracha', 'st', 'standing', 'star', 'starch', 'starchy', 'starter', 'steak', 'steamed', 'steamer', 'steel', 'stellette', 'stem', 'stevia', 'stew', 'stewed', 'stewing', 'stick', 'sticker', 'sticks', 'sticky', 'stilton', 'stir', 'stock', 'stolichnaya', 'stone', 'stonefire', 'store', 'stout', 'straight', 'straw', 'strawberri', 'strawberry', 'streaky', 'string', 'strip', 'striped', 'strips', 'strong', 'strozzapreti', 'stuffed', 'stuffing', 'sturgeon', 'style', 'sub', 'submarine', 'substitute', 'sucanat', 'success', 'sucralose', 'sucrolose', 'suet', 'sugarcane', 'sultana', 'sum', 'sumac', 'summer', 'sun', 'sunchoke', 'sundae', 'sundried', 'sunflower', 'superfine', 'sushi', 'swanson', 'swede', 'sweet', 'sweetbread', 'sweeten', 'sweetened', 'sweetener', 'sweeteners', 'swerve', 'swiss', 'swordfish', 'syd', 'syrup', 'szechuan', 'szechwan', 'tabasco', 'table', 'taco', 'tagliarini', 'tagliatelle', 'tahini', 'tail', 'taiwanese', 'taleggio', 'tamale', 'tamari', 'tamarind', 'tandoori', 'tangelo', 'tangerine', 'tap', 'tapatio', 'tapenade', 'tapioca', 'tarama', 'taro', 'tarragon', 'tart', 'tartar', 'tartlet', 'tasso', 'taste', 'tater', 'tatsoi', 'tawny', 'tea', 'teardrop', 'tel', 'teleme', 'tempeh', 'tempura', 'tender', 'tenderizer', 'tenderloin', 'tenders', 'tendon', 'tentacle', 'tequila', 'teriyaki', 'terrine', 'tex', 'texas', 'textured', 'thai', 'thaw', 'thawed', 'thickener', 'thigh', 'thinli', 'thousand', 'thread', 'thyme', 'tie', 'tiger', 'tikka', 'tilapia', 'tip', 'tipo', 'toast', 'toasted', 'tobiko', 'toffee', 'tofu', 'togarashi', 'tokyo', 'tom', 'tomate', 'tomatillo', 'tomatoes', 'ton', 'tongue', 'tonic', 'tonkatsu', 'tony', 'toor', 'topping', 'torn', 'torpedo', 'tortellini', 'tortelloni', 'tortilla', 'tortillas', 'tostada', 'tostitos', 'tot', 'touch', 'toulouse', 'tradicional', 'tradit', 'traditional', 'treacle', 'tree', 'treviso', 'tri', 'tricolor', 'trimmed', 'tripe', 'triple', 'triscuits', 'tropic', 'tropical', 'trotter', 'trout', 'true', 'truffle', 'trumpet', 'truvía', 'tsuyu', 'tube', 'tubetti', 'tubettini', 'tumeric', 'tuna', 'tuong', 'tupelo', 'turbinado', 'turbot', 'turkei', 'turkey', 'turkish', 'turmeric', 'turnip', 'turtle', 'tuscan', 'tvp', 'twist', 'tyson', 'tzatziki', 'udon', 'ulek', 'ume', 'umeboshi', 'unbaked', 'unbleached', 'uncle', 'uncook', 'uncooked', 'undiluted', 'undrain', 'unflavored', 'unhulled', 'uni', 'unsalt', 'unsalted', 'unseasoned', 'unsmoked', 'unsulphured', 'unsweeten', 'unsweetened', 'urad', 'usukuchi', 'v8', 'vadouvan', 'valencia', 'valley', 'vanilla', 'varieti', 'varnish', 'vay', 'veal', 'vegan', 'veget', 'vegeta', 'vegetables', 'vegetarian', 'veggie', 'velveeta', 'velvet', 'venison', 'verbena', 'verde', 'verjuice', 'verjus', 'vermicelli', 'vermouth', 'verts', 'viande', 'victoria', 'vidalia', 'vie', 'vietnamese', 'vin', 'vinaigrett', 'vinaigrette', 'vindaloo', 'vine', 'vinegar', 'vineyard', 'violet', 'virgin', 'virginia', 'vital', 'vitamin', 'vodka', 'wafer', 'wafers', 'waffle', 'wagon', 'wakame', 'walnut', 'warm', 'wasabe', 'wasabi', 'watercress', 'watermelon', 'wax', 'waxy', 'wedge', 'weed', 'wensleydale', 'wesson', 'wheat', 'wheatberries', 'wheel', 'whey', 'whip', 'whipped', 'whipping', 'whiskey', 'whisky', 'whitefish', 'wholemeal', 'wholesome', 'wide', 'wiener', 'wild', 'wildflower', 'williams', 'wine', 'winesap', 'wing', 'wingettes', 'winter', 'wish', 'wok', 'woksaus', 'wolf', 'wolfberries', 'won', 'wondra', 'wonton', 'wood', 'worcestershire', 'world', 'wrap', 'wrapper', 'xanthan', 'xuxu', 'yaki', 'yakisoba', 'yam', 'yardlong', 'yeast', 'yellow', 'yellowfin', 'yellowtail', 'yoghurt', 'yogurt', 'yolk', 'yoplait', 'york', 'young', 'yu', 'yuca', 'yucca', 'yukon', 'yum', 'yuzu', 'yuzukosho', 'za', 'zatarain', 'zero', 'zest', 'zesty', 'zinfandel', 'ziti', 'zucchini', 'épices']\n"
     ]
    }
   ],
   "source": [
    "print(list(feature_names))"
   ]
  },
  {
   "cell_type": "code",
   "execution_count": null,
   "metadata": {},
   "outputs": [],
   "source": []
  }
 ],
 "metadata": {
  "kernelspec": {
   "display_name": "Python 3",
   "language": "python",
   "name": "python3"
  },
  "language_info": {
   "codemirror_mode": {
    "name": "ipython",
    "version": 3
   },
   "file_extension": ".py",
   "mimetype": "text/x-python",
   "name": "python",
   "nbconvert_exporter": "python",
   "pygments_lexer": "ipython3",
   "version": "3.6.8"
  },
  "toc": {
   "base_numbering": 1,
   "nav_menu": {},
   "number_sections": true,
   "sideBar": true,
   "skip_h1_title": false,
   "title_cell": "Table of Contents",
   "title_sidebar": "Contents",
   "toc_cell": false,
   "toc_position": {},
   "toc_section_display": true,
   "toc_window_display": false
  },
  "varInspector": {
   "cols": {
    "lenName": 16,
    "lenType": 16,
    "lenVar": 40
   },
   "kernels_config": {
    "python": {
     "delete_cmd_postfix": "",
     "delete_cmd_prefix": "del ",
     "library": "var_list.py",
     "varRefreshCmd": "print(var_dic_list())"
    },
    "r": {
     "delete_cmd_postfix": ") ",
     "delete_cmd_prefix": "rm(",
     "library": "var_list.r",
     "varRefreshCmd": "cat(var_dic_list()) "
    }
   },
   "oldHeight": 416.903818,
   "position": {
    "height": "438.722px",
    "left": "910.074px",
    "right": "20px",
    "top": "151.966px",
    "width": "350px"
   },
   "types_to_exclude": [
    "module",
    "function",
    "builtin_function_or_method",
    "instance",
    "_Feature"
   ],
   "varInspector_section_display": "block",
   "window_display": false
  }
 },
 "nbformat": 4,
 "nbformat_minor": 2
}
